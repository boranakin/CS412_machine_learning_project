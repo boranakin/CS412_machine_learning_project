{
 "cells": [
  {
   "cell_type": "code",
   "execution_count": null,
   "id": "af25593c-4116-4110-9caf-7ac8a665ecf1",
   "metadata": {},
   "outputs": [],
   "source": [
    "# Import necessary libraries\n",
    "import pandas as pd\n",
    "import matplotlib.pyplot as plt\n",
    "import seaborn as sns\n",
    "\n",
    "# Load the training data\n",
    "train_data = pd.read_csv('../data/raw/bugs-train.csv')\n",
    "\n",
    "# Display basic information about the dataset\n",
    "print(train_data.info())\n",
    "print(train_data.describe())\n",
    "print(train_data.head())\n",
    "\n",
    "# Visualize the distribution of severity classes\n",
    "sns.countplot(x='severity', data=train_data)\n",
    "plt.title('Distribution of Severity Classes')\n",
    "plt.show()\n",
    "\n",
    "# Perform basic statistical analysis of the summaries\n",
    "train_data['summary_length'] = train_data['summary'].apply(len)\n",
    "print(train_data['summary_length'].describe())\n",
    "\n",
    "sns.histplot(train_data['summary_length'], bins=30, kde=True)\n",
    "plt.title('Distribution of Summary Lengths')\n",
    "plt.show()\n",
    "\n",
    "# Save the exploratory data analysis report\n",
    "with open('../reports/EDA_report.txt', 'w') as f:\n",
    "    f.write('EDA Report\\n\\n')\n",
    "    f.write(str(train_data.describe()))\n",
    "    f.write('\\n\\nSummary Length Statistics\\n')\n",
    "    f.write(str(train_data['summary_length'].describe()))\n"
   ]
  }
 ],
 "metadata": {
  "kernelspec": {
   "display_name": "Python 3 (ipykernel)",
   "language": "python",
   "name": "python3"
  },
  "language_info": {
   "codemirror_mode": {
    "name": "ipython",
    "version": 3
   },
   "file_extension": ".py",
   "mimetype": "text/x-python",
   "name": "python",
   "nbconvert_exporter": "python",
   "pygments_lexer": "ipython3",
   "version": "3.11.9"
  }
 },
 "nbformat": 4,
 "nbformat_minor": 5
}
