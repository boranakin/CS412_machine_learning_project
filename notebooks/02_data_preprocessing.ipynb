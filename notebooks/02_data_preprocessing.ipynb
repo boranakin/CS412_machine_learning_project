{
 "cells": [
  {
   "cell_type": "code",
   "execution_count": 1,
   "id": "2da9a463-f5ba-4671-aefa-7e498fb05038",
   "metadata": {},
   "outputs": [],
   "source": [
    "# Import necessary libraries\n",
    "import pandas as pd\n",
    "from sklearn.feature_extraction.text import TfidfVectorizer\n",
    "import re\n",
    "\n",
    "# Load the training and testing data\n",
    "train_data = pd.read_csv('../data/raw/bugs-train.csv')\n",
    "test_data = pd.read_csv('../data/raw/bugs-test.csv')\n",
    "\n",
    "# Define a function to clean text data\n",
    "def clean_text(text):\n",
    "    text = text.lower()\n",
    "    text = re.sub(r'\\b\\w{1,2}\\b', '', text)  # remove short words\n",
    "    text = re.sub(r'[^\\w\\s]', '', text)  # remove punctuation\n",
    "    text = re.sub(r'\\s+', ' ', text)  # remove extra spaces\n",
    "    return text.strip()\n",
    "\n",
    "# Apply text cleaning and fill NaN values\n",
    "train_data['summary_clean'] = train_data['summary'].fillna('').apply(clean_text)\n",
    "test_data['summary_clean'] = test_data['summary'].fillna('').apply(clean_text)\n",
    "\n",
    "# Convert text data to numerical format using TF-IDF\n",
    "vectorizer = TfidfVectorizer(max_features=1000)\n",
    "X_train = vectorizer.fit_transform(train_data['summary_clean'])\n",
    "X_test = vectorizer.transform(test_data['summary_clean'])\n",
    "\n",
    "# Save the processed data\n",
    "pd.DataFrame(X_train.toarray(), columns=vectorizer.get_feature_names_out()).to_csv('../data/processed/train_preprocessed.csv', index=False)\n",
    "pd.DataFrame(X_test.toarray(), columns=vectorizer.get_feature_names_out()).to_csv('../data/processed/test_preprocessed.csv', index=False)\n",
    "\n",
    "# Save the cleaned summary columns for future use\n",
    "train_data[['summary_clean', 'severity']].to_csv('../data/processed/train_cleaned.csv', index=False)\n",
    "test_data[['summary_clean']].to_csv('../data/processed/test_cleaned.csv', index=False)\n"
   ]
  }
 ],
 "metadata": {
  "kernelspec": {
   "display_name": "Python 3 (ipykernel)",
   "language": "python",
   "name": "python3"
  },
  "language_info": {
   "codemirror_mode": {
    "name": "ipython",
    "version": 3
   },
   "file_extension": ".py",
   "mimetype": "text/x-python",
   "name": "python",
   "nbconvert_exporter": "python",
   "pygments_lexer": "ipython3",
   "version": "3.12.3"
  }
 },
 "nbformat": 4,
 "nbformat_minor": 5
}
