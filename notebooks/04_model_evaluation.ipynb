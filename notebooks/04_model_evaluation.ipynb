{
 "cells": [
  {
   "cell_type": "code",
   "execution_count": null,
   "id": "bc802e2e-cbc6-43a4-97fa-482992f2a0a8",
   "metadata": {},
   "outputs": [],
   "source": [
    "# Import necessary libraries\n",
    "import pandas as pd\n",
    "from sklearn.metrics import classification_report\n",
    "import joblib\n",
    "from tensorflow.keras.models import load_model\n",
    "import numpy as np\n",
    "from tensorflow.keras.preprocessing.sequence import pad_sequences\n",
    "from tensorflow.keras.preprocessing.text import Tokenizer\n",
    "\n",
    "# Load the preprocessed test data\n",
    "X_test = pd.read_csv('../data/processed/test_preprocessed.csv')\n",
    "y_test = pd.read_csv('../data/raw/bugs-test.csv')['severity']\n",
    "\n",
    "# Load and evaluate the logistic regression model\n",
    "log_reg = joblib.load('../models/log_reg_model.pkl')\n",
    "log_reg_pred = log_reg.predict(X_test)\n",
    "log_reg_report = classification_report(y_test, log_reg_pred)\n",
    "print(\"Logistic Regression Report:\\n\", log_reg_report)\n",
    "\n",
    "# Load and evaluate the AdaBoost model\n",
    "ada = joblib.load('../models/ada_model.pkl')\n",
    "ada_pred = ada.predict(X_test)\n",
    "ada_report = classification_report(y_test, ada_pred)\n",
    "print(\"AdaBoost Report:\\n\", ada_report)\n",
    "\n",
    "# Evaluate the LSTM model\n",
    "# Load the original test data to preprocess it for the LSTM model\n",
    "test_data = pd.read_csv('../data/raw/bugs-test.csv')\n",
    "tokenizer = Tokenizer(num_words=5000, lower=True, split=' ')\n",
    "tokenizer.fit_on_texts(test_data['summary_clean'].values)\n",
    "X_test_seq = tokenizer.texts_to_sequences(test_data['summary_clean'].values)\n",
    "X_test_pad = pad_sequences(X_test_seq, maxlen=X_test_seq.shape[1])\n",
    "\n",
    "# Load the LSTM model\n",
    "model = load_model('../models/lstm_model.h5')\n",
    "lstm_pred = model.predict(X_test_pad)\n",
    "lstm_pred_labels = np.argmax(lstm_pred, axis=1)\n",
    "lstm_report = classification_report(y_test, lstm_pred_labels)\n",
    "print(\"LSTM Report:\\n\", lstm_report)\n"
   ]
  }
 ],
 "metadata": {
  "kernelspec": {
   "display_name": "Python 3 (ipykernel)",
   "language": "python",
   "name": "python3"
  },
  "language_info": {
   "codemirror_mode": {
    "name": "ipython",
    "version": 3
   },
   "file_extension": ".py",
   "mimetype": "text/x-python",
   "name": "python",
   "nbconvert_exporter": "python",
   "pygments_lexer": "ipython3",
   "version": "3.11.9"
  }
 },
 "nbformat": 4,
 "nbformat_minor": 5
}
