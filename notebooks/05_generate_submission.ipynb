{
 "cells": [
  {
   "cell_type": "code",
   "execution_count": null,
   "id": "0679b6ab-9868-467c-8f0b-66d406f43b7a",
   "metadata": {},
   "outputs": [],
   "source": [
    "# Import necessary libraries\n",
    "import pandas as pd\n",
    "import joblib\n",
    "from tensorflow.keras.models import load_model\n",
    "import numpy as np\n",
    "from tensorflow.keras.preprocessing.sequence import pad_sequences\n",
    "from tensorflow.keras.preprocessing.text import Tokenizer\n",
    "\n",
    "# Load the preprocessed test data\n",
    "X_test = pd.read_csv('../data/processed/test_preprocessed.csv')\n",
    "\n",
    "# Load the original test data to get the bug IDs and preprocess it for the LSTM model\n",
    "test_data = pd.read_csv('../data/raw/bugs-test.csv')\n",
    "tokenizer = Tokenizer(num_words=5000, lower=True, split=' ')\n",
    "tokenizer.fit_on_texts(test_data['summary_clean'].values)\n",
    "X_test_seq = tokenizer.texts_to_sequences(test_data['summary_clean'].values)\n",
    "X_test_pad = pad_sequences(X_test_seq, maxlen=X_test_seq.shape[1])\n",
    "\n",
    "# Load the trained models\n",
    "log_reg = joblib.load('../models/log_reg_model.pkl')\n",
    "ada = joblib.load('../models/ada_model.pkl')\n",
    "model = load_model('../models/lstm_model.h5')\n",
    "\n",
    "# Predict severity classes for the test data using each model\n",
    "log_reg_pred = log_reg.predict(X_test)\n",
    "ada_pred = ada.predict(X_test)\n",
    "lstm_pred = model.predict(X_test_pad)\n",
    "lstm_pred_labels = np.argmax(lstm_pred, axis=1)\n",
    "\n",
    "# For this example, let's choose the best model based on prior evaluation (assume it's LSTM for the final prediction)\n",
    "final_pred = lstm_pred_labels\n",
    "\n",
    "# Create the submission dataframe\n",
    "submission_df = pd.DataFrame({\n",
    "    'bug_id': test_data['bug_id'],\n",
    "    'severity': final_pred\n",
    "})\n",
    "\n",
    "# Save the submission file\n",
    "submission_df.to_csv('../data/submission.csv', index=False)\n",
    "\n",
    "print(\"Submission file generated successfully!\")\n"
   ]
  }
 ],
 "metadata": {
  "kernelspec": {
   "display_name": "Python 3 (ipykernel)",
   "language": "python",
   "name": "python3"
  },
  "language_info": {
   "codemirror_mode": {
    "name": "ipython",
    "version": 3
   },
   "file_extension": ".py",
   "mimetype": "text/x-python",
   "name": "python",
   "nbconvert_exporter": "python",
   "pygments_lexer": "ipython3",
   "version": "3.11.9"
  }
 },
 "nbformat": 4,
 "nbformat_minor": 5
}
