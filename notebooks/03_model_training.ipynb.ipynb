{
 "cells": [
  {
   "cell_type": "code",
   "execution_count": 1,
   "id": "8472db2f-fe70-4efc-ab13-8f1c08730313",
   "metadata": {},
   "outputs": [
    {
     "name": "stderr",
     "output_type": "stream",
     "text": [
      "c:\\Users\\borana\\AppData\\Local\\Programs\\Python\\Python312\\Lib\\site-packages\\sklearn\\metrics\\_classification.py:1509: UndefinedMetricWarning: Precision is ill-defined and being set to 0.0 in labels with no predicted samples. Use `zero_division` parameter to control this behavior.\n",
      "  _warn_prf(average, modifier, f\"{metric.capitalize()} is\", len(result))\n",
      "c:\\Users\\borana\\AppData\\Local\\Programs\\Python\\Python312\\Lib\\site-packages\\sklearn\\metrics\\_classification.py:1509: UndefinedMetricWarning: Precision is ill-defined and being set to 0.0 in labels with no predicted samples. Use `zero_division` parameter to control this behavior.\n",
      "  _warn_prf(average, modifier, f\"{metric.capitalize()} is\", len(result))\n",
      "c:\\Users\\borana\\AppData\\Local\\Programs\\Python\\Python312\\Lib\\site-packages\\sklearn\\metrics\\_classification.py:1509: UndefinedMetricWarning: Precision is ill-defined and being set to 0.0 in labels with no predicted samples. Use `zero_division` parameter to control this behavior.\n",
      "  _warn_prf(average, modifier, f\"{metric.capitalize()} is\", len(result))\n",
      "c:\\Users\\borana\\AppData\\Local\\Programs\\Python\\Python312\\Lib\\site-packages\\sklearn\\ensemble\\_weight_boosting.py:519: FutureWarning: The SAMME.R algorithm (the default) is deprecated and will be removed in 1.6. Use the SAMME algorithm to circumvent this warning.\n",
      "  warnings.warn(\n"
     ]
    },
    {
     "name": "stdout",
     "output_type": "stream",
     "text": [
      "Logistic Regression Report:\n",
      "               precision    recall  f1-score   support\n",
      "\n",
      "     blocker       0.00      0.00      0.00       143\n",
      "    critical       0.80      0.67      0.73      3663\n",
      " enhancement       1.00      0.01      0.02       852\n",
      "       major       0.53      0.02      0.04      1201\n",
      "       minor       0.00      0.00      0.00       593\n",
      "      normal       0.86      0.98      0.91     25320\n",
      "     trivial       0.00      0.00      0.00       228\n",
      "\n",
      "    accuracy                           0.85     32000\n",
      "   macro avg       0.46      0.24      0.24     32000\n",
      "weighted avg       0.82      0.85      0.81     32000\n",
      "\n"
     ]
    },
    {
     "name": "stderr",
     "output_type": "stream",
     "text": [
      "c:\\Users\\borana\\AppData\\Local\\Programs\\Python\\Python312\\Lib\\site-packages\\sklearn\\metrics\\_classification.py:1509: UndefinedMetricWarning: Precision is ill-defined and being set to 0.0 in labels with no predicted samples. Use `zero_division` parameter to control this behavior.\n",
      "  _warn_prf(average, modifier, f\"{metric.capitalize()} is\", len(result))\n",
      "c:\\Users\\borana\\AppData\\Local\\Programs\\Python\\Python312\\Lib\\site-packages\\sklearn\\metrics\\_classification.py:1509: UndefinedMetricWarning: Precision is ill-defined and being set to 0.0 in labels with no predicted samples. Use `zero_division` parameter to control this behavior.\n",
      "  _warn_prf(average, modifier, f\"{metric.capitalize()} is\", len(result))\n",
      "c:\\Users\\borana\\AppData\\Local\\Programs\\Python\\Python312\\Lib\\site-packages\\sklearn\\metrics\\_classification.py:1509: UndefinedMetricWarning: Precision is ill-defined and being set to 0.0 in labels with no predicted samples. Use `zero_division` parameter to control this behavior.\n",
      "  _warn_prf(average, modifier, f\"{metric.capitalize()} is\", len(result))\n"
     ]
    },
    {
     "name": "stdout",
     "output_type": "stream",
     "text": [
      "AdaBoost Report:\n",
      "               precision    recall  f1-score   support\n",
      "\n",
      "     blocker       0.10      0.01      0.01       143\n",
      "    critical       0.74      0.76      0.75      3663\n",
      " enhancement       0.06      0.00      0.00       852\n",
      "       major       0.39      0.02      0.03      1201\n",
      "       minor       0.00      0.00      0.00       593\n",
      "      normal       0.87      0.97      0.92     25320\n",
      "     trivial       0.00      0.00      0.00       228\n",
      "\n",
      "    accuracy                           0.85     32000\n",
      "   macro avg       0.31      0.25      0.25     32000\n",
      "weighted avg       0.79      0.85      0.81     32000\n",
      "\n",
      "Epoch 1/5\n"
     ]
    },
    {
     "name": "stderr",
     "output_type": "stream",
     "text": [
      "c:\\Users\\borana\\AppData\\Local\\Programs\\Python\\Python312\\Lib\\site-packages\\keras\\src\\layers\\core\\embedding.py:90: UserWarning: Argument `input_length` is deprecated. Just remove it.\n",
      "  warnings.warn(\n"
     ]
    },
    {
     "name": "stdout",
     "output_type": "stream",
     "text": [
      "2000/2000 - 25s - 13ms/step - accuracy: 0.8475 - loss: 0.5898 - val_accuracy: 0.8601 - val_loss: 0.5259\n",
      "Epoch 2/5\n",
      "2000/2000 - 23s - 11ms/step - accuracy: 0.8586 - loss: 0.5104 - val_accuracy: 0.8626 - val_loss: 0.5107\n",
      "Epoch 3/5\n",
      "2000/2000 - 23s - 12ms/step - accuracy: 0.8621 - loss: 0.4784 - val_accuracy: 0.8622 - val_loss: 0.5132\n",
      "Epoch 4/5\n",
      "2000/2000 - 23s - 12ms/step - accuracy: 0.8652 - loss: 0.4551 - val_accuracy: 0.8621 - val_loss: 0.5242\n",
      "Epoch 5/5\n",
      "2000/2000 - 23s - 12ms/step - accuracy: 0.8679 - loss: 0.4364 - val_accuracy: 0.8613 - val_loss: 0.5308\n"
     ]
    },
    {
     "name": "stderr",
     "output_type": "stream",
     "text": [
      "WARNING:absl:You are saving your model as an HDF5 file via `model.save()` or `keras.saving.save_model(model)`. This file format is considered legacy. We recommend using instead the native Keras format, e.g. `model.save('my_model.keras')` or `keras.saving.save_model(model, 'my_model.keras')`. \n"
     ]
    },
    {
     "name": "stdout",
     "output_type": "stream",
     "text": [
      "\u001b[1m1000/1000\u001b[0m \u001b[32m━━━━━━━━━━━━━━━━━━━━\u001b[0m\u001b[37m\u001b[0m \u001b[1m3s\u001b[0m 3ms/step\n",
      "LSTM Report:\n",
      "               precision    recall  f1-score   support\n",
      "\n",
      "           0       0.55      0.04      0.08       143\n",
      "           1       0.79      0.79      0.79      3663\n",
      "           2       0.39      0.07      0.12       852\n",
      "           3       0.48      0.08      0.14      1201\n",
      "           4       0.44      0.02      0.04       593\n",
      "           5       0.88      0.97      0.92     25320\n",
      "           6       0.32      0.03      0.05       228\n",
      "\n",
      "    accuracy                           0.86     32000\n",
      "   macro avg       0.55      0.29      0.30     32000\n",
      "weighted avg       0.83      0.86      0.83     32000\n",
      "\n"
     ]
    }
   ],
   "source": [
    "# Import necessary libraries\n",
    "import pandas as pd\n",
    "from sklearn.linear_model import LogisticRegression\n",
    "from sklearn.ensemble import AdaBoostClassifier\n",
    "from sklearn.model_selection import train_test_split, GridSearchCV\n",
    "from sklearn.metrics import classification_report\n",
    "import joblib\n",
    "from tensorflow.keras.models import Sequential\n",
    "from tensorflow.keras.layers import Dense, LSTM, Embedding, SpatialDropout1D\n",
    "from tensorflow.keras.preprocessing.sequence import pad_sequences\n",
    "from tensorflow.keras.preprocessing.text import Tokenizer\n",
    "import numpy as np\n",
    "\n",
    "# Load the preprocessed training data\n",
    "X_train = pd.read_csv('../data/processed/train_preprocessed.csv')\n",
    "y_train = pd.read_csv('../data/processed/train_cleaned.csv')['severity']\n",
    "\n",
    "# Split the data into training and validation sets\n",
    "X_train_split, X_val_split, y_train_split, y_val_split = train_test_split(X_train, y_train, test_size=0.2, random_state=42)\n",
    "\n",
    "# Approach 1: Logistic Regression\n",
    "log_reg = LogisticRegression(max_iter=1000)\n",
    "log_reg.fit(X_train_split, y_train_split)\n",
    "log_reg_pred = log_reg.predict(X_val_split)\n",
    "log_reg_report = classification_report(y_val_split, log_reg_pred)\n",
    "print(\"Logistic Regression Report:\\n\", log_reg_report)\n",
    "\n",
    "# Save the logistic regression model\n",
    "joblib.dump(log_reg, '../models/log_reg_model.pkl')\n",
    "\n",
    "# Approach 2: AdaBoost\n",
    "ada = AdaBoostClassifier(n_estimators=100)\n",
    "ada.fit(X_train_split, y_train_split)\n",
    "ada_pred = ada.predict(X_val_split)\n",
    "ada_report = classification_report(y_val_split, ada_pred)\n",
    "print(\"AdaBoost Report:\\n\", ada_report)\n",
    "\n",
    "# Save the AdaBoost model\n",
    "joblib.dump(ada, '../models/ada_model.pkl')\n",
    "\n",
    "# Approach 3: LSTM\n",
    "# Load the original training data to reprocess it for the LSTM model\n",
    "train_data = pd.read_csv('../data/processed/train_cleaned.csv')\n",
    "\n",
    "# Fill NaN values with empty strings\n",
    "train_data['summary_clean'] = train_data['summary_clean'].fillna('')\n",
    "\n",
    "# Tokenize the text data\n",
    "tokenizer = Tokenizer(num_words=5000, lower=True, split=' ')\n",
    "tokenizer.fit_on_texts(train_data['summary_clean'].values)\n",
    "X = tokenizer.texts_to_sequences(train_data['summary_clean'].values)\n",
    "X = pad_sequences(X)\n",
    "\n",
    "# Convert labels to one-hot encoding\n",
    "y = pd.get_dummies(train_data['severity']).values\n",
    "\n",
    "# Split the data\n",
    "X_train, X_val, y_train, y_val = train_test_split(X, y, test_size=0.2, random_state=42)\n",
    "\n",
    "# Define the LSTM model\n",
    "model = Sequential()\n",
    "model.add(Embedding(input_dim=5000, output_dim=128, input_length=X.shape[1]))\n",
    "model.add(SpatialDropout1D(0.2))\n",
    "model.add(LSTM(100, dropout=0.2, recurrent_dropout=0.2))\n",
    "model.add(Dense(y.shape[1], activation='softmax'))\n",
    "model.compile(loss='categorical_crossentropy', optimizer='adam', metrics=['accuracy'])\n",
    "\n",
    "# Train the LSTM model\n",
    "model.fit(X_train, y_train, epochs=5, batch_size=64, validation_data=(X_val, y_val), verbose=2)\n",
    "\n",
    "# Save the LSTM model\n",
    "model.save('../models/lstm_model.h5')\n",
    "\n",
    "# Evaluate the LSTM model\n",
    "lstm_pred = model.predict(X_val)\n",
    "lstm_pred_labels = np.argmax(lstm_pred, axis=1)\n",
    "y_val_labels = np.argmax(y_val, axis=1)\n",
    "lstm_report = classification_report(y_val_labels, lstm_pred_labels)\n",
    "print(\"LSTM Report:\\n\", lstm_report)\n"
   ]
  }
 ],
 "metadata": {
  "kernelspec": {
   "display_name": "Python 3 (ipykernel)",
   "language": "python",
   "name": "python3"
  },
  "language_info": {
   "codemirror_mode": {
    "name": "ipython",
    "version": 3
   },
   "file_extension": ".py",
   "mimetype": "text/x-python",
   "name": "python",
   "nbconvert_exporter": "python",
   "pygments_lexer": "ipython3",
   "version": "3.12.3"
  }
 },
 "nbformat": 4,
 "nbformat_minor": 5
}
